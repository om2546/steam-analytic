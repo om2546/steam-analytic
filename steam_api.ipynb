{
 "cells": [
  {
   "cell_type": "code",
   "execution_count": 1,
   "metadata": {},
   "outputs": [],
   "source": [
    "import requests\n",
    "import random\n",
    "import re\n",
    "import pandas as pd\n",
    "import numpy as np\n",
    "import time\n",
    "from IPython.display import clear_output\n"
   ]
  },
  {
   "cell_type": "code",
   "execution_count": 2,
   "metadata": {},
   "outputs": [],
   "source": [
    "def get_all_app_id():\n",
    "    # get all app id\n",
    "    req = requests.get(\"https://api.steampowered.com/ISteamApps/GetAppList/v2/\")\n",
    "\n",
    "    if (req.status_code != 200):\n",
    "        print(\"Failed to get all games on steam.\")\n",
    "        return\n",
    "    \n",
    "    try:\n",
    "        data = req.json()\n",
    "    except Exception as e:\n",
    "        print(e)\n",
    "        return\n",
    "    \n",
    "    apps_data = data['applist']['apps']\n",
    "\n",
    "    apps_ids = []\n",
    "\n",
    "    for app in apps_data:\n",
    "        appid = app['appid']\n",
    "        name = app['name']\n",
    "        \n",
    "        # skip apps that have empty name\n",
    "        if not name:\n",
    "            continue\n",
    "\n",
    "        apps_ids.append(appid)\n",
    "\n",
    "    return apps_ids"
   ]
  },
  {
   "cell_type": "code",
   "execution_count": 3,
   "metadata": {},
   "outputs": [
    {
     "data": {
      "text/plain": [
       "221301"
      ]
     },
     "execution_count": 3,
     "metadata": {},
     "output_type": "execute_result"
    }
   ],
   "source": [
    "app_id = get_all_app_id()\n",
    "app_id = sorted(app_id)\n",
    "len(app_id)\n"
   ]
  },
  {
   "cell_type": "code",
   "execution_count": 4,
   "metadata": {},
   "outputs": [],
   "source": [
    "def clean_html(raw_html):\n",
    "    cleanr = re.compile('<.*?>')\n",
    "    cleantext = re.sub(cleanr, '', raw_html)\n",
    "    # remove multiple spaces\n",
    "    cleantext = re.sub('\\s+', ' ', cleantext)\n",
    "    return cleantext"
   ]
  },
  {
   "cell_type": "code",
   "execution_count": 5,
   "metadata": {},
   "outputs": [],
   "source": [
    "def error_list_concat(app_id,code):\n",
    "    df = pd.read_csv('error_list.csv')\n",
    "    print('error func',app_id,code)\n",
    "\n",
    "    temp = pd.DataFrame(data=[[app_id, code]], columns=['app_id', 'error_code'])\n",
    "    temp = temp.astype({'app_id': int, 'error_code': str})\n",
    "    df = pd.concat([df, temp], ignore_index=True)\n",
    "    df.to_csv('error_list.csv', index=False)\n",
    "    \n",
    "    return"
   ]
  },
  {
   "cell_type": "code",
   "execution_count": 6,
   "metadata": {},
   "outputs": [],
   "source": [
    "def get_app_details(app_id):\n",
    "    \n",
    "    url = \"http://store.steampowered.com/api/appdetails/\"\n",
    "    params = {\n",
    "        \"appids\": app_id\n",
    "    }\n",
    "    req = requests.get(url, params=params)\n",
    "\n",
    "    if (req.status_code == 429):\n",
    "        print(f\"Too many requests\")\n",
    "        time.sleep(10)\n",
    "        return get_app_details(app_id)\n",
    "    elif (req.status_code != 200):\n",
    "        print(f\"Failed to get app details for app_id: {app_id}\")\n",
    "        error_list_concat(app_id,str(req.status_code))\n",
    "        return None\n",
    "        \n",
    "    try:\n",
    "        data = req.json()\n",
    "    except Exception as e:\n",
    "        print('error',e)\n",
    "        error_list_concat(app_id,'json error')\n",
    "        return None\n",
    "    \n",
    "    try:\n",
    "        name = data[str(app_id)]['data']['name']\n",
    "        about_game = clean_html(data[str(app_id)]['data']['about_the_game'])\n",
    "        short_description = clean_html(data[str(app_id)]['data']['short_description'])\n",
    "        detailed_description = clean_html(data[str(app_id)]['data']['detailed_description'])\n",
    "        genres = [i['description'] for i in data[str(app_id)]['data']['genres']]\n",
    "        categories = [i['description'] for i in data[str(app_id)]['data']['categories']]\n",
    "        df = pd.DataFrame(\n",
    "            columns=['app_id', 'name', 'about_game', 'short_description', 'detailed_description', 'genres', 'categories'],\n",
    "            data=[[app_id, name, about_game, short_description, detailed_description, genres, categories]]\n",
    "        )\n",
    "    except Exception as e:\n",
    "        error_list_concat(app_id,'data error')\n",
    "        print('error',e)\n",
    "\n",
    "        return None\n",
    "    \n",
    "    return df"
   ]
  },
  {
   "cell_type": "code",
   "execution_count": 7,
   "metadata": {},
   "outputs": [],
   "source": [
    "def scraping_list(app_id_list):\n",
    "    count = 0\n",
    "    success = 0\n",
    "    failed = 0\n",
    "    df = pd.read_csv('steam.csv')\n",
    "    exist_game_id = df['app_id'].values\n",
    "    app_id_list = [app_id for app_id in app_id_list if app_id not in exist_game_id]\n",
    "    error_list = pd.read_csv('error_list.csv')\n",
    "    app_id_list = [app_id for app_id in app_id_list if app_id not in error_list['app_id'].values]\n",
    "    for app_id in app_id_list:\n",
    "        app_details = get_app_details(app_id)\n",
    "        if app_details is not None:\n",
    "            success += 1\n",
    "            df = pd.concat([df, app_details], ignore_index=True)\n",
    "        else:\n",
    "            failed += 1\n",
    "        df.to_csv('steam.csv', index=False)\n",
    "        clear_output(wait=True)\n",
    "        count += 1\n",
    "        print(f\"Progress: {count}/{len(app_id_list)}\")\n",
    "        print(f\"Success: {success}\")\n",
    "        print(f\"Failed: {failed}\")"
   ]
  },
  {
   "cell_type": "code",
   "execution_count": 8,
   "metadata": {},
   "outputs": [
    {
     "name": "stdout",
     "output_type": "stream",
     "text": [
      "Progress: 200/377\n",
      "Success: 41\n",
      "Failed: 159\n",
      "Too many requests\n",
      "Too many requests\n",
      "Too many requests\n",
      "Too many requests\n",
      "Too many requests\n",
      "Too many requests\n",
      "Too many requests\n",
      "Too many requests\n",
      "Too many requests\n",
      "Too many requests\n",
      "Too many requests\n",
      "Too many requests\n",
      "Too many requests\n",
      "Too many requests\n"
     ]
    },
    {
     "ename": "KeyboardInterrupt",
     "evalue": "",
     "output_type": "error",
     "traceback": [
      "\u001b[1;31m---------------------------------------------------------------------------\u001b[0m",
      "\u001b[1;31mKeyboardInterrupt\u001b[0m                         Traceback (most recent call last)",
      "Cell \u001b[1;32mIn[8], line 1\u001b[0m\n\u001b[1;32m----> 1\u001b[0m \u001b[43mscraping_list\u001b[49m\u001b[43m(\u001b[49m\u001b[43mapp_id\u001b[49m\u001b[43m[\u001b[49m\u001b[43m:\u001b[49m\u001b[38;5;241;43m1000\u001b[39;49m\u001b[43m]\u001b[49m\u001b[43m)\u001b[49m\n",
      "Cell \u001b[1;32mIn[7], line 11\u001b[0m, in \u001b[0;36mscraping_list\u001b[1;34m(app_id_list)\u001b[0m\n\u001b[0;32m      9\u001b[0m app_id_list \u001b[38;5;241m=\u001b[39m [app_id \u001b[38;5;28;01mfor\u001b[39;00m app_id \u001b[38;5;129;01min\u001b[39;00m app_id_list \u001b[38;5;28;01mif\u001b[39;00m app_id \u001b[38;5;129;01mnot\u001b[39;00m \u001b[38;5;129;01min\u001b[39;00m error_list[\u001b[38;5;124m'\u001b[39m\u001b[38;5;124mapp_id\u001b[39m\u001b[38;5;124m'\u001b[39m]\u001b[38;5;241m.\u001b[39mvalues]\n\u001b[0;32m     10\u001b[0m \u001b[38;5;28;01mfor\u001b[39;00m app_id \u001b[38;5;129;01min\u001b[39;00m app_id_list:\n\u001b[1;32m---> 11\u001b[0m     app_details \u001b[38;5;241m=\u001b[39m \u001b[43mget_app_details\u001b[49m\u001b[43m(\u001b[49m\u001b[43mapp_id\u001b[49m\u001b[43m)\u001b[49m\n\u001b[0;32m     12\u001b[0m     \u001b[38;5;28;01mif\u001b[39;00m app_details \u001b[38;5;129;01mis\u001b[39;00m \u001b[38;5;129;01mnot\u001b[39;00m \u001b[38;5;28;01mNone\u001b[39;00m:\n\u001b[0;32m     13\u001b[0m         success \u001b[38;5;241m+\u001b[39m\u001b[38;5;241m=\u001b[39m \u001b[38;5;241m1\u001b[39m\n",
      "Cell \u001b[1;32mIn[6], line 12\u001b[0m, in \u001b[0;36mget_app_details\u001b[1;34m(app_id)\u001b[0m\n\u001b[0;32m     10\u001b[0m     \u001b[38;5;28mprint\u001b[39m(\u001b[38;5;124mf\u001b[39m\u001b[38;5;124m\"\u001b[39m\u001b[38;5;124mToo many requests\u001b[39m\u001b[38;5;124m\"\u001b[39m)\n\u001b[0;32m     11\u001b[0m     time\u001b[38;5;241m.\u001b[39msleep(\u001b[38;5;241m10\u001b[39m)\n\u001b[1;32m---> 12\u001b[0m     \u001b[38;5;28;01mreturn\u001b[39;00m \u001b[43mget_app_details\u001b[49m\u001b[43m(\u001b[49m\u001b[43mapp_id\u001b[49m\u001b[43m)\u001b[49m\n\u001b[0;32m     13\u001b[0m \u001b[38;5;28;01melif\u001b[39;00m (req\u001b[38;5;241m.\u001b[39mstatus_code \u001b[38;5;241m!=\u001b[39m \u001b[38;5;241m200\u001b[39m):\n\u001b[0;32m     14\u001b[0m     \u001b[38;5;28mprint\u001b[39m(\u001b[38;5;124mf\u001b[39m\u001b[38;5;124m\"\u001b[39m\u001b[38;5;124mFailed to get app details for app_id: \u001b[39m\u001b[38;5;132;01m{\u001b[39;00mapp_id\u001b[38;5;132;01m}\u001b[39;00m\u001b[38;5;124m\"\u001b[39m)\n",
      "Cell \u001b[1;32mIn[6], line 12\u001b[0m, in \u001b[0;36mget_app_details\u001b[1;34m(app_id)\u001b[0m\n\u001b[0;32m     10\u001b[0m     \u001b[38;5;28mprint\u001b[39m(\u001b[38;5;124mf\u001b[39m\u001b[38;5;124m\"\u001b[39m\u001b[38;5;124mToo many requests\u001b[39m\u001b[38;5;124m\"\u001b[39m)\n\u001b[0;32m     11\u001b[0m     time\u001b[38;5;241m.\u001b[39msleep(\u001b[38;5;241m10\u001b[39m)\n\u001b[1;32m---> 12\u001b[0m     \u001b[38;5;28;01mreturn\u001b[39;00m \u001b[43mget_app_details\u001b[49m\u001b[43m(\u001b[49m\u001b[43mapp_id\u001b[49m\u001b[43m)\u001b[49m\n\u001b[0;32m     13\u001b[0m \u001b[38;5;28;01melif\u001b[39;00m (req\u001b[38;5;241m.\u001b[39mstatus_code \u001b[38;5;241m!=\u001b[39m \u001b[38;5;241m200\u001b[39m):\n\u001b[0;32m     14\u001b[0m     \u001b[38;5;28mprint\u001b[39m(\u001b[38;5;124mf\u001b[39m\u001b[38;5;124m\"\u001b[39m\u001b[38;5;124mFailed to get app details for app_id: \u001b[39m\u001b[38;5;132;01m{\u001b[39;00mapp_id\u001b[38;5;132;01m}\u001b[39;00m\u001b[38;5;124m\"\u001b[39m)\n",
      "    \u001b[1;31m[... skipping similar frames: get_app_details at line 12 (10 times)]\u001b[0m\n",
      "Cell \u001b[1;32mIn[6], line 12\u001b[0m, in \u001b[0;36mget_app_details\u001b[1;34m(app_id)\u001b[0m\n\u001b[0;32m     10\u001b[0m     \u001b[38;5;28mprint\u001b[39m(\u001b[38;5;124mf\u001b[39m\u001b[38;5;124m\"\u001b[39m\u001b[38;5;124mToo many requests\u001b[39m\u001b[38;5;124m\"\u001b[39m)\n\u001b[0;32m     11\u001b[0m     time\u001b[38;5;241m.\u001b[39msleep(\u001b[38;5;241m10\u001b[39m)\n\u001b[1;32m---> 12\u001b[0m     \u001b[38;5;28;01mreturn\u001b[39;00m \u001b[43mget_app_details\u001b[49m\u001b[43m(\u001b[49m\u001b[43mapp_id\u001b[49m\u001b[43m)\u001b[49m\n\u001b[0;32m     13\u001b[0m \u001b[38;5;28;01melif\u001b[39;00m (req\u001b[38;5;241m.\u001b[39mstatus_code \u001b[38;5;241m!=\u001b[39m \u001b[38;5;241m200\u001b[39m):\n\u001b[0;32m     14\u001b[0m     \u001b[38;5;28mprint\u001b[39m(\u001b[38;5;124mf\u001b[39m\u001b[38;5;124m\"\u001b[39m\u001b[38;5;124mFailed to get app details for app_id: \u001b[39m\u001b[38;5;132;01m{\u001b[39;00mapp_id\u001b[38;5;132;01m}\u001b[39;00m\u001b[38;5;124m\"\u001b[39m)\n",
      "Cell \u001b[1;32mIn[6], line 11\u001b[0m, in \u001b[0;36mget_app_details\u001b[1;34m(app_id)\u001b[0m\n\u001b[0;32m      9\u001b[0m \u001b[38;5;28;01mif\u001b[39;00m (req\u001b[38;5;241m.\u001b[39mstatus_code \u001b[38;5;241m==\u001b[39m \u001b[38;5;241m429\u001b[39m):\n\u001b[0;32m     10\u001b[0m     \u001b[38;5;28mprint\u001b[39m(\u001b[38;5;124mf\u001b[39m\u001b[38;5;124m\"\u001b[39m\u001b[38;5;124mToo many requests\u001b[39m\u001b[38;5;124m\"\u001b[39m)\n\u001b[1;32m---> 11\u001b[0m     time\u001b[38;5;241m.\u001b[39msleep(\u001b[38;5;241m10\u001b[39m)\n\u001b[0;32m     12\u001b[0m     \u001b[38;5;28;01mreturn\u001b[39;00m get_app_details(app_id)\n\u001b[0;32m     13\u001b[0m \u001b[38;5;28;01melif\u001b[39;00m (req\u001b[38;5;241m.\u001b[39mstatus_code \u001b[38;5;241m!=\u001b[39m \u001b[38;5;241m200\u001b[39m):\n",
      "\u001b[1;31mKeyboardInterrupt\u001b[0m: "
     ]
    }
   ],
   "source": [
    "scraping_list(app_id[:1000])"
   ]
  },
  {
   "cell_type": "code",
   "execution_count": null,
   "metadata": {},
   "outputs": [],
   "source": [
    "scraping_list(app_id[1000:10000])"
   ]
  },
  {
   "cell_type": "code",
   "execution_count": null,
   "metadata": {},
   "outputs": [],
   "source": [
    "scraping_list(app_id[10000:100000])"
   ]
  },
  {
   "cell_type": "code",
   "execution_count": null,
   "metadata": {},
   "outputs": [],
   "source": [
    "scraping_list(app_id[100000:])"
   ]
  }
 ],
 "metadata": {
  "kernelspec": {
   "display_name": "Python 3",
   "language": "python",
   "name": "python3"
  },
  "language_info": {
   "codemirror_mode": {
    "name": "ipython",
    "version": 3
   },
   "file_extension": ".py",
   "mimetype": "text/x-python",
   "name": "python",
   "nbconvert_exporter": "python",
   "pygments_lexer": "ipython3",
   "version": "3.11.9"
  }
 },
 "nbformat": 4,
 "nbformat_minor": 2
}
